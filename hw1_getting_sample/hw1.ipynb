{
 "cells": [
  {
   "cell_type": "code",
   "execution_count": 1,
   "metadata": {
    "collapsed": false
   },
   "outputs": [],
   "source": [
    "import random \n",
    "import numpy\n",
    "import matplotlib\n",
    "#read the total number of line in the input file\n",
    "totalLine =0\n",
    "with open(\"abalone.data.txt\") as f:\n",
    "    for line in f:\n",
    "        totalLine+=1"
   ]
  },
  {
   "cell_type": "code",
   "execution_count": 2,
   "metadata": {
    "collapsed": false
   },
   "outputs": [],
   "source": [
    "'''\n",
    "This function will run the algorithm totalRun times (10, 100...100000),\n",
    "and each time it will collect 10% of the example\n",
    "'''\n",
    "def checkExample(totalRun, list):\n",
    "    index = 0 #control first while loop\n",
    "    while index <totalRun:\n",
    "        index +=1\n",
    "        time =0 #control the second while loop\n",
    "        Nremain= totalLine\n",
    "        Nneeded = 0.1*totalLine\n",
    "        #go to the entire example to collect 10% data\n",
    "        while time < totalLine:\n",
    "            if random.random() < Nneeded/Nremain:\n",
    "                Nneeded -=1\n",
    "                list[time] += 1\n",
    "            Nremain -=1\n",
    "            time +=1"
   ]
  },
  {
   "cell_type": "code",
   "execution_count": null,
   "metadata": {
    "collapsed": false
   },
   "outputs": [],
   "source": [
    "meanGraph=[] #to contain the mean\n",
    "SDGraph=[] #contain Standard deviation\n",
    "\n",
    "totalRun =10\n",
    "while totalRun<=100000:\n",
    "    list =[0]*totalLine\n",
    "    checkExample(totalRun, list)\n",
    "    meanGraph.append(numpy.mean(list)/totalRun)\n",
    "    SDGraph.append(numpy.std(list)/totalRun)\n",
    "    totalRun*=10\n",
    "print meanGraph\n",
    "print SDGraph"
   ]
  },
  {
   "cell_type": "code",
   "execution_count": null,
   "metadata": {
    "collapsed": false
   },
   "outputs": [],
   "source": [
    "from matplotlib import pyplot as plt\n",
    "numberRun=[10,100,1000,10000,100000]\n",
    "#plot mean\n",
    "plt.subplot(211) \n",
    "plt.plot(numberRun, meanGraph);\n",
    "plt.title('Program Info')\n",
    "plt.ylabel('mean')\n",
    "plt.xlabel('number of run')"
   ]
  },
  {
   "cell_type": "code",
   "execution_count": null,
   "metadata": {
    "collapsed": true
   },
   "outputs": [],
   "source": [
    "#plot std\n",
    "plt.subplot(212) \n",
    "plt.plot(numberRun,SDGraph)\n",
    "plt.ylabel('standard deviation')\n",
    "plt.xlabel('number of run')\n",
    "plt.show()"
   ]
  },
  {
   "cell_type": "code",
   "execution_count": null,
   "metadata": {
    "collapsed": true
   },
   "outputs": [],
   "source": []
  }
 ],
 "metadata": {
  "kernelspec": {
   "display_name": "Python 2",
   "language": "python",
   "name": "python2"
  },
  "language_info": {
   "codemirror_mode": {
    "name": "ipython",
    "version": 2
   },
   "file_extension": ".py",
   "mimetype": "text/x-python",
   "name": "python",
   "nbconvert_exporter": "python",
   "pygments_lexer": "ipython2",
   "version": "2.7.11"
  }
 },
 "nbformat": 4,
 "nbformat_minor": 0
}
